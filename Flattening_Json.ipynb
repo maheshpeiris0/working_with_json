{
 "cells": [
  {
   "cell_type": "code",
   "execution_count": 5,
   "metadata": {},
   "outputs": [],
   "source": [
    "import json\n",
    "from flatten_json import flatten"
   ]
  },
  {
   "cell_type": "code",
   "execution_count": 13,
   "metadata": {},
   "outputs": [],
   "source": [
    "nested_json_one = {\n",
    "   \"name\": \"John\",\n",
    "   \"age\": 30,\n",
    "   \"address\": {\n",
    "      \"street\": \"123 Main St\",\n",
    "      \"city\": \"New York\",\n",
    "      \"state\": \"NY\"\n",
    "   }\n",
    "}"
   ]
  },
  {
   "cell_type": "code",
   "execution_count": 14,
   "metadata": {},
   "outputs": [],
   "source": [
    "flattened_json_one = flatten(nested_json_one)"
   ]
  },
  {
   "cell_type": "code",
   "execution_count": 15,
   "metadata": {},
   "outputs": [
    {
     "data": {
      "text/plain": [
       "{'name': 'John',\n",
       " 'age': 30,\n",
       " 'address_street': '123 Main St',\n",
       " 'address_city': 'New York',\n",
       " 'address_state': 'NY'}"
      ]
     },
     "execution_count": 15,
     "metadata": {},
     "output_type": "execute_result"
    }
   ],
   "source": [
    "flattened_json_one"
   ]
  },
  {
   "cell_type": "code",
   "execution_count": 16,
   "metadata": {},
   "outputs": [],
   "source": [
    "nested_json_two = {\n",
    "    \"a\": 1,\n",
    "    \"b\": {\n",
    "        \"c\": 2,\n",
    "        \"d\": {\n",
    "            \"e\": 3\n",
    "        }\n",
    "    }\n",
    "}\n"
   ]
  },
  {
   "cell_type": "code",
   "execution_count": 17,
   "metadata": {},
   "outputs": [],
   "source": [
    "flattened_json_two = flatten(nested_json_two)"
   ]
  },
  {
   "cell_type": "code",
   "execution_count": 18,
   "metadata": {},
   "outputs": [
    {
     "data": {
      "text/plain": [
       "{'a': 1, 'b_c': 2, 'b_d_e': 3}"
      ]
     },
     "execution_count": 18,
     "metadata": {},
     "output_type": "execute_result"
    }
   ],
   "source": [
    "flattened_json_two"
   ]
  },
  {
   "cell_type": "code",
   "execution_count": 29,
   "metadata": {},
   "outputs": [],
   "source": [
    "values_two ={key: key[-1] for key in flattened_json_two.keys()}"
   ]
  },
  {
   "cell_type": "code",
   "execution_count": 43,
   "metadata": {},
   "outputs": [],
   "source": [
    "def stage_two_flatten(nested_json):\n",
    "    flattened_json = flatten(nested_json)\n",
    "    values_two ={key: key[-1] for key in flattened_json.keys()}\n",
    "    new_dict = {key: value for key, value in zip( values_two.values(),flattened_json.values())}\n",
    "    return new_dict"
   ]
  },
  {
   "cell_type": "code",
   "execution_count": 42,
   "metadata": {},
   "outputs": [
    {
     "data": {
      "text/plain": [
       "{'a': 1, 'c': 2, 'e': 3}"
      ]
     },
     "execution_count": 42,
     "metadata": {},
     "output_type": "execute_result"
    }
   ],
   "source": [
    "stage_two_flatten(nested_json_two)"
   ]
  },
  {
   "cell_type": "code",
   "execution_count": 37,
   "metadata": {},
   "outputs": [
    {
     "data": {
      "text/plain": [
       "{'a': 'a', 'b_c': 'c', 'b_d_e': 'e'}"
      ]
     },
     "execution_count": 37,
     "metadata": {},
     "output_type": "execute_result"
    }
   ],
   "source": [
    "values_two"
   ]
  },
  {
   "cell_type": "code",
   "execution_count": 35,
   "metadata": {},
   "outputs": [],
   "source": [
    "new_dict = {key: value for key, value in zip( values_two.values(),flattened_json_two.values())}"
   ]
  },
  {
   "cell_type": "code",
   "execution_count": 36,
   "metadata": {},
   "outputs": [
    {
     "data": {
      "text/plain": [
       "{'a': 1, 'c': 2, 'e': 3}"
      ]
     },
     "execution_count": 36,
     "metadata": {},
     "output_type": "execute_result"
    }
   ],
   "source": [
    "new_dict"
   ]
  },
  {
   "cell_type": "code",
   "execution_count": null,
   "metadata": {},
   "outputs": [],
   "source": [
    "{key: value for key, value in zip(flattened_json_two.values(), values_two.values())}"
   ]
  },
  {
   "cell_type": "code",
   "execution_count": 34,
   "metadata": {},
   "outputs": [
    {
     "data": {
      "text/plain": [
       "{1: 'a', 2: 'c', 3: 'e'}"
      ]
     },
     "execution_count": 34,
     "metadata": {},
     "output_type": "execute_result"
    }
   ],
   "source": [
    "new_dict"
   ]
  },
  {
   "cell_type": "code",
   "execution_count": 27,
   "metadata": {},
   "outputs": [
    {
     "data": {
      "text/plain": [
       "dict_keys(['a', 'b_c', 'b_d_e'])"
      ]
     },
     "execution_count": 27,
     "metadata": {},
     "output_type": "execute_result"
    }
   ],
   "source": [
    "flattened_json_two.keys()"
   ]
  },
  {
   "cell_type": "code",
   "execution_count": null,
   "metadata": {},
   "outputs": [],
   "source": []
  },
  {
   "cell_type": "code",
   "execution_count": 19,
   "metadata": {},
   "outputs": [],
   "source": [
    "nested_json_three = {\n",
    "    \"user\": {\n",
    "        \"name\": \"John Doe\",\n",
    "        \"address\": {\n",
    "            \"street\": \"123 Main St\",\n",
    "            \"city\": \"Anytown\",\n",
    "            \"state\": \"CA\"\n",
    "        },\n",
    "        \"email\": \"johndoe@example.com\"\n",
    "    },\n",
    "    \"products\": [\n",
    "        {\"id\": 1, \"name\": \"Widget\", \"price\": 19.99},\n",
    "        {\"id\": 2, \"name\": \"Gadget\", \"price\": 29.99}\n",
    "    ],\n",
    "    \"order\": {\n",
    "        \"id\": 12345,\n",
    "        \"date\": \"2023-11-25\"\n",
    "    }\n",
    "}\n"
   ]
  },
  {
   "cell_type": "code",
   "execution_count": 20,
   "metadata": {},
   "outputs": [],
   "source": [
    "flattened_json_three = flatten(nested_json_three)"
   ]
  },
  {
   "cell_type": "code",
   "execution_count": 21,
   "metadata": {},
   "outputs": [
    {
     "data": {
      "text/plain": [
       "{'user_name': 'John Doe',\n",
       " 'user_address_street': '123 Main St',\n",
       " 'user_address_city': 'Anytown',\n",
       " 'user_address_state': 'CA',\n",
       " 'user_email': 'johndoe@example.com',\n",
       " 'products_0_id': 1,\n",
       " 'products_0_name': 'Widget',\n",
       " 'products_0_price': 19.99,\n",
       " 'products_1_id': 2,\n",
       " 'products_1_name': 'Gadget',\n",
       " 'products_1_price': 29.99,\n",
       " 'order_id': 12345,\n",
       " 'order_date': '2023-11-25'}"
      ]
     },
     "execution_count": 21,
     "metadata": {},
     "output_type": "execute_result"
    }
   ],
   "source": [
    "flattened_json_three"
   ]
  },
  {
   "cell_type": "code",
   "execution_count": 24,
   "metadata": {},
   "outputs": [],
   "source": [
    "dataset_1 = {\n",
    "    \"count\": 13,\n",
    "    \"virtualmachine\": [\n",
    "        {\n",
    "            \"id\": \"1082e2ed-ff66-40b1-a41b-26061afd4a0b\",\n",
    "            \"name\": \"test-2\",\n",
    "            \"displayname\": \"test-2\",\n",
    "            \"securitygroup\": [\n",
    "                {\n",
    "                    \"id\": \"9e649fbc-3e64-4395-9629-5e1215b34e58\",\n",
    "                    \"name\": \"test\",\n",
    "                    \"tags\": []\n",
    "                }\n",
    "            ],\n",
    "            \"nic\": [\n",
    "                {\n",
    "                    \"id\": \"79568b14-b377-4d4f-b024-87dc22492b8e\",\n",
    "                    \"networkid\": \"05c0e278-7ab4-4a6d-aa9c-3158620b6471\"\n",
    "                },\n",
    "                {\n",
    "                    \"id\": \"3d7f2818-1f19-46e7-aa98-956526c5b1ad\",\n",
    "                    \"networkid\": \"b4648cfd-0795-43fc-9e50-6ee9ddefc5bd\",\n",
    "                    \"traffictype\": \"Guest\"\n",
    "                }\n",
    "            ],\n",
    "            \"hypervisor\": \"KVM\",\n",
    "            \"affinitygroup\": [],\n",
    "            \"isdynamicallyscalable\": False\n",
    "        }\n",
    "    ]\n",
    "}"
   ]
  },
  {
   "cell_type": "code",
   "execution_count": 25,
   "metadata": {},
   "outputs": [],
   "source": [
    "dataset_flattened = flatten(dataset_1)"
   ]
  },
  {
   "cell_type": "code",
   "execution_count": 26,
   "metadata": {},
   "outputs": [
    {
     "data": {
      "text/plain": [
       "{'count': 13,\n",
       " 'virtualmachine_0_id': '1082e2ed-ff66-40b1-a41b-26061afd4a0b',\n",
       " 'virtualmachine_0_name': 'test-2',\n",
       " 'virtualmachine_0_displayname': 'test-2',\n",
       " 'virtualmachine_0_securitygroup_0_id': '9e649fbc-3e64-4395-9629-5e1215b34e58',\n",
       " 'virtualmachine_0_securitygroup_0_name': 'test',\n",
       " 'virtualmachine_0_securitygroup_0_tags': [],\n",
       " 'virtualmachine_0_nic_0_id': '79568b14-b377-4d4f-b024-87dc22492b8e',\n",
       " 'virtualmachine_0_nic_0_networkid': '05c0e278-7ab4-4a6d-aa9c-3158620b6471',\n",
       " 'virtualmachine_0_nic_1_id': '3d7f2818-1f19-46e7-aa98-956526c5b1ad',\n",
       " 'virtualmachine_0_nic_1_networkid': 'b4648cfd-0795-43fc-9e50-6ee9ddefc5bd',\n",
       " 'virtualmachine_0_nic_1_traffictype': 'Guest',\n",
       " 'virtualmachine_0_hypervisor': 'KVM',\n",
       " 'virtualmachine_0_affinitygroup': [],\n",
       " 'virtualmachine_0_isdynamicallyscalable': False}"
      ]
     },
     "execution_count": 26,
     "metadata": {},
     "output_type": "execute_result"
    }
   ],
   "source": [
    "dataset_flattened"
   ]
  },
  {
   "cell_type": "code",
   "execution_count": null,
   "metadata": {},
   "outputs": [],
   "source": []
  }
 ],
 "metadata": {
  "kernelspec": {
   "display_name": "Python 3",
   "language": "python",
   "name": "python3"
  },
  "language_info": {
   "codemirror_mode": {
    "name": "ipython",
    "version": 3
   },
   "file_extension": ".py",
   "mimetype": "text/x-python",
   "name": "python",
   "nbconvert_exporter": "python",
   "pygments_lexer": "ipython3",
   "version": "3.10.8"
  }
 },
 "nbformat": 4,
 "nbformat_minor": 2
}
